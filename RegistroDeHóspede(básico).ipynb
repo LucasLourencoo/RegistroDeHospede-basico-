{
 "cells": [
  {
   "cell_type": "code",
   "execution_count": null,
   "metadata": {},
   "outputs": [
    {
     "name": "stdout",
     "output_type": "stream",
     "text": [
      "========= BEM VINDO ==========\n",
      "======== LUCAS' HOTEL ========\n",
      "===== SISTEMA DE CADASTRO ====\n",
      "\n",
      "\n",
      "         HÓSPEDE 1         \n",
      "Nome do hóspede: Lucas\n",
      "CPF do Lucas: 000.000.000-00\n",
      "\n",
      "\n",
      "         HÓSPEDE 2         \n",
      "Nome do hóspede: Fulano\n",
      "CPF do Fulano: 000.000.000-00\n",
      "\n",
      "\n",
      "         HÓSPEDE 3         \n",
      "Nome do hóspede: Fulaninho\n",
      "CPF do Fulaninho: 000.000.000-00\n",
      "\n",
      "\n",
      "         HÓSPEDE 4         \n",
      "Nome do hóspede: Fulanete\n",
      "CPF do Fulanete: 000.000.000-00\n",
      "\n",
      "\n",
      "\n",
      " ======== DETALHES DO QUARTO ========\n",
      "Nome: Lucas       CPF: 000.000.000-00\n",
      "Nome: Fulano      CPF: 000.000.000-00\n",
      "Nome: Fulaninho   CPF: 000.000.000-00\n",
      "Nome: Fulanete    CPF: 000.000.000-00\n"
     ]
    }
   ],
   "source": [
    "\n",
    "print( '=' * 9, 'BEM VINDO', '=' * 10)\n",
    "print( '=' * 8, \"LUCAS' HOTEL\", '=' * 8)\n",
    "print('=' * 5, 'SISTEMA DE CADASTRO', '=' * 4)\n",
    "print('\\n')\n",
    "\n",
    "quarto = []\n",
    "\n",
    "qtde_pessoas = int(input('Quantas pessoas chegaram no quarto?'))\n",
    "for l in range(qtde_pessoas):\n",
    "    print(' '*8, 'HÓSPEDE {}'.format(l + 1), ' ' * 8)\n",
    "    nome = input('Qual o nome referente à {}º pessoa?'.format(l + 1)).strip().title()\n",
    "    print('Nome do hóspede: {}'.format(nome))\n",
    "    cpf = input('Insira o CPF do {}: '.format(nome))\n",
    "    cpf = '{}{}{}.{}{}{}.{}{}{}-{}{}'.format(*cpf)\n",
    "    print('CPF do {}: {}'.format(nome, cpf))\n",
    "    hospede = [nome, cpf]\n",
    "    quarto.append(hospede)\n",
    "    print('\\n')\n",
    "\n",
    "print('\\n', '=' * 8, '{:^8}'.format('DETALHES DO QUARTO'), '=' * 8)\n",
    "\n",
    "for each in quarto:\n",
    "    i = quarto.index(each)\n",
    "    print(f'Nome: {quarto[i][0]:10}  CPF:{quarto[i][1]:>15}')\n",
    "    "
   ]
  }
 ],
 "metadata": {
  "interpreter": {
   "hash": "665796ea3363072d3a6057ac2fdbe3c4fcb0d17a4b92295d9707f78e9c46c0af"
  },
  "kernelspec": {
   "display_name": "Python 3.9.7 ('base')",
   "language": "python",
   "name": "python3"
  },
  "language_info": {
   "codemirror_mode": {
    "name": "ipython",
    "version": 3
   },
   "file_extension": ".py",
   "mimetype": "text/x-python",
   "name": "python",
   "nbconvert_exporter": "python",
   "pygments_lexer": "ipython3",
   "version": "3.9.7"
  },
  "orig_nbformat": 4
 },
 "nbformat": 4,
 "nbformat_minor": 2
}
